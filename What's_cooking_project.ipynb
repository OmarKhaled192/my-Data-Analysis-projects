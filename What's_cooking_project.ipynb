{
  "nbformat": 4,
  "nbformat_minor": 0,
  "metadata": {
    "colab": {
      "name": "What's cooking project.ipynb",
      "provenance": [],
      "collapsed_sections": []
    },
    "kernelspec": {
      "name": "python3",
      "display_name": "Python 3"
    },
    "language_info": {
      "name": "python"
    }
  },
  "cells": [
    {
      "cell_type": "markdown",
      "source": [
        "### <b><p align=\"center\"> What's Cooking?</p></b>\n"
      ],
      "metadata": {
        "id": "PkIkjQb7xSmq"
      }
    },
    {
      "cell_type": "markdown",
      "source": [
        "# load data libraries"
      ],
      "metadata": {
        "id": "rrzuH2mEinoT"
      }
    },
    {
      "cell_type": "code",
      "execution_count": 1,
      "metadata": {
        "id": "nbj8VDKTik9n"
      },
      "outputs": [],
      "source": [
        "import numpy as np # linear algebra library\n",
        "import pandas as pd # data processing, CSV file I/O (e.g. pd.read_csv)\n",
        "import zipfile # to read zip files\n",
        "from sklearn.model_selection import train_test_split"
      ]
    },
    {
      "cell_type": "markdown",
      "source": [
        "##show speciefic raws"
      ],
      "metadata": {
        "id": "Rlz3I-g6i89G"
      }
    },
    {
      "cell_type": "code",
      "source": [
        "pd.set_option('display.max_rows', 10000)\n",
        "pd.set_option('display.max_columns', 500)\n",
        "pd.set_option('display.precision',150)\n",
        "pd.options.display.float_format = '{:,.3f}'.format"
      ],
      "metadata": {
        "id": "0ZBuYQWzis9z"
      },
      "execution_count": 2,
      "outputs": []
    },
    {
      "cell_type": "markdown",
      "source": [
        "##reading data"
      ],
      "metadata": {
        "id": "L75qwJ02jxRR"
      }
    },
    {
      "cell_type": "code",
      "source": [
        "#unzip the files\n",
        "archive_train = zipfile.ZipFile('/content/train.json.zip')\n",
        "\n",
        "#read training json file \n",
        "train = pd.read_json(archive_train.read('train.json'))\n",
        "\n",
        "#output the frist 5 rows\n",
        "train.head()"
      ],
      "metadata": {
        "colab": {
          "base_uri": "https://localhost:8080/",
          "height": 206
        },
        "id": "5TLVAd85jNJh",
        "outputId": "612864fe-37fa-4e32-cb4f-68ea775363b3"
      },
      "execution_count": 4,
      "outputs": [
        {
          "output_type": "execute_result",
          "data": {
            "text/plain": [
              "      id      cuisine                                        ingredients\n",
              "0  10259        greek  [romaine lettuce, black olives, grape tomatoes...\n",
              "1  25693  southern_us  [plain flour, ground pepper, salt, tomatoes, g...\n",
              "2  20130     filipino  [eggs, pepper, salt, mayonaise, cooking oil, g...\n",
              "3  22213       indian                [water, vegetable oil, wheat, salt]\n",
              "4  13162       indian  [black pepper, shallots, cornflour, cayenne pe..."
            ],
            "text/html": [
              "\n",
              "  <div id=\"df-bee12652-f02a-4702-89f2-9dd6ff05e936\">\n",
              "    <div class=\"colab-df-container\">\n",
              "      <div>\n",
              "<style scoped>\n",
              "    .dataframe tbody tr th:only-of-type {\n",
              "        vertical-align: middle;\n",
              "    }\n",
              "\n",
              "    .dataframe tbody tr th {\n",
              "        vertical-align: top;\n",
              "    }\n",
              "\n",
              "    .dataframe thead th {\n",
              "        text-align: right;\n",
              "    }\n",
              "</style>\n",
              "<table border=\"1\" class=\"dataframe\">\n",
              "  <thead>\n",
              "    <tr style=\"text-align: right;\">\n",
              "      <th></th>\n",
              "      <th>id</th>\n",
              "      <th>cuisine</th>\n",
              "      <th>ingredients</th>\n",
              "    </tr>\n",
              "  </thead>\n",
              "  <tbody>\n",
              "    <tr>\n",
              "      <th>0</th>\n",
              "      <td>10259</td>\n",
              "      <td>greek</td>\n",
              "      <td>[romaine lettuce, black olives, grape tomatoes...</td>\n",
              "    </tr>\n",
              "    <tr>\n",
              "      <th>1</th>\n",
              "      <td>25693</td>\n",
              "      <td>southern_us</td>\n",
              "      <td>[plain flour, ground pepper, salt, tomatoes, g...</td>\n",
              "    </tr>\n",
              "    <tr>\n",
              "      <th>2</th>\n",
              "      <td>20130</td>\n",
              "      <td>filipino</td>\n",
              "      <td>[eggs, pepper, salt, mayonaise, cooking oil, g...</td>\n",
              "    </tr>\n",
              "    <tr>\n",
              "      <th>3</th>\n",
              "      <td>22213</td>\n",
              "      <td>indian</td>\n",
              "      <td>[water, vegetable oil, wheat, salt]</td>\n",
              "    </tr>\n",
              "    <tr>\n",
              "      <th>4</th>\n",
              "      <td>13162</td>\n",
              "      <td>indian</td>\n",
              "      <td>[black pepper, shallots, cornflour, cayenne pe...</td>\n",
              "    </tr>\n",
              "  </tbody>\n",
              "</table>\n",
              "</div>\n",
              "      <button class=\"colab-df-convert\" onclick=\"convertToInteractive('df-bee12652-f02a-4702-89f2-9dd6ff05e936')\"\n",
              "              title=\"Convert this dataframe to an interactive table.\"\n",
              "              style=\"display:none;\">\n",
              "        \n",
              "  <svg xmlns=\"http://www.w3.org/2000/svg\" height=\"24px\"viewBox=\"0 0 24 24\"\n",
              "       width=\"24px\">\n",
              "    <path d=\"M0 0h24v24H0V0z\" fill=\"none\"/>\n",
              "    <path d=\"M18.56 5.44l.94 2.06.94-2.06 2.06-.94-2.06-.94-.94-2.06-.94 2.06-2.06.94zm-11 1L8.5 8.5l.94-2.06 2.06-.94-2.06-.94L8.5 2.5l-.94 2.06-2.06.94zm10 10l.94 2.06.94-2.06 2.06-.94-2.06-.94-.94-2.06-.94 2.06-2.06.94z\"/><path d=\"M17.41 7.96l-1.37-1.37c-.4-.4-.92-.59-1.43-.59-.52 0-1.04.2-1.43.59L10.3 9.45l-7.72 7.72c-.78.78-.78 2.05 0 2.83L4 21.41c.39.39.9.59 1.41.59.51 0 1.02-.2 1.41-.59l7.78-7.78 2.81-2.81c.8-.78.8-2.07 0-2.86zM5.41 20L4 18.59l7.72-7.72 1.47 1.35L5.41 20z\"/>\n",
              "  </svg>\n",
              "      </button>\n",
              "      \n",
              "  <style>\n",
              "    .colab-df-container {\n",
              "      display:flex;\n",
              "      flex-wrap:wrap;\n",
              "      gap: 12px;\n",
              "    }\n",
              "\n",
              "    .colab-df-convert {\n",
              "      background-color: #E8F0FE;\n",
              "      border: none;\n",
              "      border-radius: 50%;\n",
              "      cursor: pointer;\n",
              "      display: none;\n",
              "      fill: #1967D2;\n",
              "      height: 32px;\n",
              "      padding: 0 0 0 0;\n",
              "      width: 32px;\n",
              "    }\n",
              "\n",
              "    .colab-df-convert:hover {\n",
              "      background-color: #E2EBFA;\n",
              "      box-shadow: 0px 1px 2px rgba(60, 64, 67, 0.3), 0px 1px 3px 1px rgba(60, 64, 67, 0.15);\n",
              "      fill: #174EA6;\n",
              "    }\n",
              "\n",
              "    [theme=dark] .colab-df-convert {\n",
              "      background-color: #3B4455;\n",
              "      fill: #D2E3FC;\n",
              "    }\n",
              "\n",
              "    [theme=dark] .colab-df-convert:hover {\n",
              "      background-color: #434B5C;\n",
              "      box-shadow: 0px 1px 3px 1px rgba(0, 0, 0, 0.15);\n",
              "      filter: drop-shadow(0px 1px 2px rgba(0, 0, 0, 0.3));\n",
              "      fill: #FFFFFF;\n",
              "    }\n",
              "  </style>\n",
              "\n",
              "      <script>\n",
              "        const buttonEl =\n",
              "          document.querySelector('#df-bee12652-f02a-4702-89f2-9dd6ff05e936 button.colab-df-convert');\n",
              "        buttonEl.style.display =\n",
              "          google.colab.kernel.accessAllowed ? 'block' : 'none';\n",
              "\n",
              "        async function convertToInteractive(key) {\n",
              "          const element = document.querySelector('#df-bee12652-f02a-4702-89f2-9dd6ff05e936');\n",
              "          const dataTable =\n",
              "            await google.colab.kernel.invokeFunction('convertToInteractive',\n",
              "                                                     [key], {});\n",
              "          if (!dataTable) return;\n",
              "\n",
              "          const docLinkHtml = 'Like what you see? Visit the ' +\n",
              "            '<a target=\"_blank\" href=https://colab.research.google.com/notebooks/data_table.ipynb>data table notebook</a>'\n",
              "            + ' to learn more about interactive tables.';\n",
              "          element.innerHTML = '';\n",
              "          dataTable['output_type'] = 'display_data';\n",
              "          await google.colab.output.renderOutput(dataTable, element);\n",
              "          const docLink = document.createElement('div');\n",
              "          docLink.innerHTML = docLinkHtml;\n",
              "          element.appendChild(docLink);\n",
              "        }\n",
              "      </script>\n",
              "    </div>\n",
              "  </div>\n",
              "  "
            ]
          },
          "metadata": {},
          "execution_count": 4
        }
      ]
    },
    {
      "cell_type": "markdown",
      "source": [
        "##splitting data"
      ],
      "metadata": {
        "id": "qqpaJ2Q5kaVK"
      }
    },
    {
      "cell_type": "code",
      "source": [
        "train_data, test_data = train_test_split(train, test_size=0.4, random_state=1)\n",
        "val_data, test_data = train_test_split(test_data, test_size=0.5, random_state=1)\n",
        "\n",
        "train_data = train_data.reset_index(drop=True)\n",
        "val_data = val_data.reset_index(drop=True)\n",
        "test_data = test_data.reset_index(drop=True)"
      ],
      "metadata": {
        "id": "_sFbCsHwjyzC"
      },
      "execution_count": 6,
      "outputs": []
    },
    {
      "cell_type": "code",
      "source": [
        "print(\"Train set size is \",len(train_data))\n",
        "print(\"Val set size is \",len(val_data))\n",
        "print(\"Test set size is \",len(test_data))"
      ],
      "metadata": {
        "colab": {
          "base_uri": "https://localhost:8080/"
        },
        "id": "86cnIhznkqRK",
        "outputId": "876d7cff-2233-49e3-92e9-1647a91357c1"
      },
      "execution_count": 7,
      "outputs": [
        {
          "output_type": "stream",
          "name": "stdout",
          "text": [
            "Train set size is  23864\n",
            "Val set size is  7955\n",
            "Test set size is  7955\n"
          ]
        }
      ]
    },
    {
      "cell_type": "markdown",
      "source": [
        "##understanding data"
      ],
      "metadata": {
        "id": "wGWWvoX_k6SR"
      }
    },
    {
      "cell_type": "code",
      "source": [
        "train_data.info()"
      ],
      "metadata": {
        "colab": {
          "base_uri": "https://localhost:8080/"
        },
        "id": "lPgvfn1NkrAB",
        "outputId": "4739e710-c450-4fbc-ae90-7e97d15258de"
      },
      "execution_count": 8,
      "outputs": [
        {
          "output_type": "stream",
          "name": "stdout",
          "text": [
            "<class 'pandas.core.frame.DataFrame'>\n",
            "RangeIndex: 23864 entries, 0 to 23863\n",
            "Data columns (total 3 columns):\n",
            " #   Column       Non-Null Count  Dtype \n",
            "---  ------       --------------  ----- \n",
            " 0   id           23864 non-null  int64 \n",
            " 1   cuisine      23864 non-null  object\n",
            " 2   ingredients  23864 non-null  object\n",
            "dtypes: int64(1), object(2)\n",
            "memory usage: 559.4+ KB\n"
          ]
        }
      ]
    },
    {
      "cell_type": "markdown",
      "source": [
        "#conclusion from understanding :\n",
        "> The main takeaways are: \n",
        "> - There is 23864 records.\n",
        "> - There is no nulls in all columns.\n",
        "> - only the id in an integer column."
      ],
      "metadata": {
        "id": "DmNi7tXUlGc5"
      }
    },
    {
      "cell_type": "markdown",
      "source": [
        "## 2.2 How many cuisines are there?\n"
      ],
      "metadata": {
        "id": "XSGlVO4qlmRR"
      }
    },
    {
      "cell_type": "code",
      "source": [
        "# number of unique cuisines\n",
        "num_cuisines = len(train_data['cuisine'].unique())\n",
        "print(\"there are \",num_cuisines,\" unique cuisines.\")"
      ],
      "metadata": {
        "colab": {
          "base_uri": "https://localhost:8080/"
        },
        "id": "3pbCg6Zlk8xh",
        "outputId": "d5dbbe44-baf8-47fb-87e0-2a79a8ee3af1"
      },
      "execution_count": 9,
      "outputs": [
        {
          "output_type": "stream",
          "name": "stdout",
          "text": [
            "there are  20  unique cuisines.\n"
          ]
        }
      ]
    },
    {
      "cell_type": "markdown",
      "source": [
        "\n",
        "## 2.3 What is the frequency of each cuisine?\n"
      ],
      "metadata": {
        "id": "EcNsbSLAl6Da"
      }
    },
    {
      "cell_type": "code",
      "execution_count": 10,
      "metadata": {
        "_cell_guid": "908893b5-cb03-4506-9cf7-a2f33c39bd97",
        "_uuid": "dfc8b73f-4d27-4809-b89d-f36888335ff1",
        "execution": {
          "iopub.execute_input": "2021-03-23T07:53:46.146363Z",
          "iopub.status.busy": "2021-03-23T07:53:46.145629Z",
          "iopub.status.idle": "2021-03-23T07:53:46.151845Z",
          "shell.execute_reply": "2021-03-23T07:53:46.151149Z"
        },
        "papermill": {
          "duration": 0.041499,
          "end_time": "2021-03-23T07:53:46.151999",
          "exception": false,
          "start_time": "2021-03-23T07:53:46.110500",
          "status": "completed"
        },
        "scrolled": false,
        "tags": [],
        "id": "ArLxR6QkXyVZ"
      },
      "outputs": [],
      "source": [
        "# let's save list of cuisine names we have\n",
        "labels = train_data['cuisine'].unique()"
      ]
    },
    {
      "cell_type": "markdown",
      "source": [
        "## ploting graph"
      ],
      "metadata": {
        "id": "sahpCCNQmZJR"
      }
    },
    {
      "cell_type": "code",
      "source": [
        "# plot the graph\n",
        "import matplotlib.pyplot as plt\n",
        "\n",
        "fig, ax = plt.subplots(figsize=(15,10)) # create the plot and specify the figure size\n",
        "plt.xlabel('Cuisine Name') # specify the x labels\n",
        "plt.ylabel('Frequency') # specify the y labels\n",
        "plt.title('Frequency of Cuisines') # specify the plot title\n",
        "plt.bar(labels,train_data['cuisine'].value_counts()) # create a bar plot\n",
        "plt.xticks(rotation=80) # rotate the x labels\n",
        "plt.grid() # show the grid\n",
        "plt.show() # show the final plot"
      ],
      "metadata": {
        "colab": {
          "base_uri": "https://localhost:8080/",
          "height": 675
        },
        "id": "QvrY-CCBmU8b",
        "outputId": "6e763e61-7009-43fc-d5b7-d387bc98eda9"
      },
      "execution_count": 12,
      "outputs": [
        {
          "output_type": "display_data",
          "data": {
            "text/plain": [
              "<Figure size 1080x720 with 1 Axes>"
            ],
            "image/png": "[encoded data removed]"
          },
          "metadata": {
            "needs_background": "light"
          }
        }
      ]
    },
    {
      "cell_type": "markdown",
      "source": [
        "> knoweldge from diagram :\n",
        " >- most common kitchen is italian kitchen\n",
        " >- least common kitchen is vietnamese\n",
        " >- data not balanced (not distributed equally)"
      ],
      "metadata": {
        "id": "rOYmrFSimrIh"
      }
    },
    {
      "cell_type": "markdown",
      "source": [
        "## 2.4 How many ingredients per recipes we have?"
      ],
      "metadata": {
        "id": "bPSGiqJZoLQK"
      }
    },
    {
      "cell_type": "code",
      "source": [
        "# add column with num of ingredienrs per recipe\n",
        "train_data['ingredients_num'] = train_data[\"ingredients\"].apply(len)\n",
        "\n",
        "# save list of the unique numbers we have\n",
        "numbers = train_data[\"ingredients\"].apply(len).unique()"
      ],
      "metadata": {
        "id": "v3MxdhImmbfJ"
      },
      "execution_count": 13,
      "outputs": []
    },
    {
      "cell_type": "code",
      "source": [
        "fig, ax = plt.subplots(figsize=(15,10))\n",
        "plt.bar(numbers,train_data[\"ingredients_num\"].value_counts().sort_index())\n",
        "plt.xlabel('Ingredients Count')\n",
        "plt.ylabel('Number of Recipes')\n",
        "plt.title('Number of Recipes per Ingeredients Count')\n",
        "plt.xticks(np.arange(min(numbers), max(numbers)+1, 3.0)) # change x labels from the defult to the given range\n",
        "plt.grid()\n",
        "plt.show()"
      ],
      "metadata": {
        "colab": {
          "base_uri": "https://localhost:8080/",
          "height": 621
        },
        "id": "gIBBchADock0",
        "outputId": "bde9c276-8d0f-4117-f612-303553cccd46"
      },
      "execution_count": 14,
      "outputs": [
        {
          "output_type": "display_data",
          "data": {
            "text/plain": [
              "<Figure size 1080x720 with 1 Axes>"
            ],
            "image/png": "[encoded data removed]"
          },
          "metadata": {
            "needs_background": "light"
          }
        }
      ]
    },
    {
      "cell_type": "markdown",
      "source": [
        "> conclusion:\n",
        ">- this diagram is not enough for retrieving knoweldge \n",
        "of most ingredients count using in large numbers of recipies\n"
      ],
      "metadata": {
        "id": "SKjISlkZoiYx"
      }
    },
    {
      "cell_type": "markdown",
      "source": [
        "##Let's try to view the graph in another way."
      ],
      "metadata": {
        "id": "ErCHKTNupZkx"
      }
    },
    {
      "cell_type": "code",
      "source": [
        "bins = range(0,70,5)\n",
        "\n",
        "fig, ax = plt.subplots(figsize=(15,10))\n",
        "plt.hist(train_data['ingredients_num'], bins=bins, edgecolor=\"k\") # output a histogram plot\n",
        "plt.xlabel('Ingredients Count')\n",
        "plt.ylabel('Number of Recipes')\n",
        "plt.title('Number of Recipes per Ingeredients Count')\n",
        "plt.xticks(bins) # change x labels from the defult to the given range\n",
        "plt.grid()\n",
        "plt.show()"
      ],
      "metadata": {
        "colab": {
          "base_uri": "https://localhost:8080/",
          "height": 621
        },
        "id": "ImV1RtUxof1x",
        "outputId": "fd8a8c60-9e9f-4dfb-e22f-9a5fc4d0a143"
      },
      "execution_count": 17,
      "outputs": [
        {
          "output_type": "display_data",
          "data": {
            "text/plain": [
              "<Figure size 1080x720 with 1 Axes>"
            ],
            "image/png": "[encoded data removed]"
          },
          "metadata": {
            "needs_background": "light"
          }
        }
      ]
    },
    {
      "cell_type": "markdown",
      "source": [
        "# Now this have a more obvious information. \n",
        "\n",
        "> The main takeaways are:\n",
        "> - most recipies between 5 & 15 ingredients"
      ],
      "metadata": {
        "id": "EAN12bjipjpr"
      }
    },
    {
      "cell_type": "markdown",
      "source": [
        "##Now, let's build up on this information.\n",
        "\n"
      ],
      "metadata": {
        "id": "Ytpf6e4Tsc2Z"
      }
    },
    {
      "cell_type": "code",
      "source": [
        "print(\"There are \" ,len(train_data[train_data[\"ingredients_num\"]<2]), \" recipes with ingredients less than 5.\")\n",
        "print(\"There are \" ,len(train_data[train_data[\"ingredients_num\"]>30]), \" recipes with ingredients more than 30.\")"
      ],
      "metadata": {
        "colab": {
          "base_uri": "https://localhost:8080/"
        },
        "id": "ccct15CEpYLh",
        "outputId": "a9feb5c3-072a-46f7-97be-bf1905c37945"
      },
      "execution_count": 21,
      "outputs": [
        {
          "output_type": "stream",
          "name": "stdout",
          "text": [
            "There are  15  recipes with ingredients less than 5.\n",
            "There are  22  recipes with ingredients more than 30.\n"
          ]
        }
      ]
    },
    {
      "cell_type": "code",
      "source": [
        "train_data[train_data[\"ingredients_num\"]<2][['ingredients']]"
      ],
      "metadata": {
        "colab": {
          "base_uri": "https://localhost:8080/",
          "height": 520
        },
        "id": "nyticHvksuZS",
        "outputId": "cae14114-31af-4403-d10e-f972d0e2aa9d"
      },
      "execution_count": 22,
      "outputs": [
        {
          "output_type": "execute_result",
          "data": {
            "text/plain": [
              "                      ingredients\n",
              "1088                [sticky rice]\n",
              "1972                 [sushi rice]\n",
              "2025       [lemonade concentrate]\n",
              "6255            [spanish chorizo]\n",
              "10335                    [butter]\n",
              "10952                     [water]\n",
              "11028           [unsalted butter]\n",
              "11809              [jasmine rice]\n",
              "13431                    [butter]\n",
              "14606            [corn tortillas]\n",
              "16114           [cherry tomatoes]\n",
              "18198                   [grained]\n",
              "19683  [sweetened condensed milk]\n",
              "21496      [plain low-fat yogurt]\n",
              "23558                    [phyllo]"
            ],
            "text/html": [
              "\n",
              "  <div id=\"df-de2d9384-a262-4369-978d-6eeb86131e8f\">\n",
              "    <div class=\"colab-df-container\">\n",
              "      <div>\n",
              "<style scoped>\n",
              "    .dataframe tbody tr th:only-of-type {\n",
              "        vertical-align: middle;\n",
              "    }\n",
              "\n",
              "    .dataframe tbody tr th {\n",
              "        vertical-align: top;\n",
              "    }\n",
              "\n",
              "    .dataframe thead th {\n",
              "        text-align: right;\n",
              "    }\n",
              "</style>\n",
              "<table border=\"1\" class=\"dataframe\">\n",
              "  <thead>\n",
              "    <tr style=\"text-align: right;\">\n",
              "      <th></th>\n",
              "      <th>ingredients</th>\n",
              "    </tr>\n",
              "  </thead>\n",
              "  <tbody>\n",
              "    <tr>\n",
              "      <th>1088</th>\n",
              "      <td>[sticky rice]</td>\n",
              "    </tr>\n",
              "    <tr>\n",
              "      <th>1972</th>\n",
              "      <td>[sushi rice]</td>\n",
              "    </tr>\n",
              "    <tr>\n",
              "      <th>2025</th>\n",
              "      <td>[lemonade concentrate]</td>\n",
              "    </tr>\n",
              "    <tr>\n",
              "      <th>6255</th>\n",
              "      <td>[spanish chorizo]</td>\n",
              "    </tr>\n",
              "    <tr>\n",
              "      <th>10335</th>\n",
              "      <td>[butter]</td>\n",
              "    </tr>\n",
              "    <tr>\n",
              "      <th>10952</th>\n",
              "      <td>[water]</td>\n",
              "    </tr>\n",
              "    <tr>\n",
              "      <th>11028</th>\n",
              "      <td>[unsalted butter]</td>\n",
              "    </tr>\n",
              "    <tr>\n",
              "      <th>11809</th>\n",
              "      <td>[jasmine rice]</td>\n",
              "    </tr>\n",
              "    <tr>\n",
              "      <th>13431</th>\n",
              "      <td>[butter]</td>\n",
              "    </tr>\n",
              "    <tr>\n",
              "      <th>14606</th>\n",
              "      <td>[corn tortillas]</td>\n",
              "    </tr>\n",
              "    <tr>\n",
              "      <th>16114</th>\n",
              "      <td>[cherry tomatoes]</td>\n",
              "    </tr>\n",
              "    <tr>\n",
              "      <th>18198</th>\n",
              "      <td>[grained]</td>\n",
              "    </tr>\n",
              "    <tr>\n",
              "      <th>19683</th>\n",
              "      <td>[sweetened condensed milk]</td>\n",
              "    </tr>\n",
              "    <tr>\n",
              "      <th>21496</th>\n",
              "      <td>[plain low-fat yogurt]</td>\n",
              "    </tr>\n",
              "    <tr>\n",
              "      <th>23558</th>\n",
              "      <td>[phyllo]</td>\n",
              "    </tr>\n",
              "  </tbody>\n",
              "</table>\n",
              "</div>\n",
              "      <button class=\"colab-df-convert\" onclick=\"convertToInteractive('df-de2d9384-a262-4369-978d-6eeb86131e8f')\"\n",
              "              title=\"Convert this dataframe to an interactive table.\"\n",
              "              style=\"display:none;\">\n",
              "        \n",
              "  <svg xmlns=\"http://www.w3.org/2000/svg\" height=\"24px\"viewBox=\"0 0 24 24\"\n",
              "       width=\"24px\">\n",
              "    <path d=\"M0 0h24v24H0V0z\" fill=\"none\"/>\n",
              "    <path d=\"M18.56 5.44l.94 2.06.94-2.06 2.06-.94-2.06-.94-.94-2.06-.94 2.06-2.06.94zm-11 1L8.5 8.5l.94-2.06 2.06-.94-2.06-.94L8.5 2.5l-.94 2.06-2.06.94zm10 10l.94 2.06.94-2.06 2.06-.94-2.06-.94-.94-2.06-.94 2.06-2.06.94z\"/><path d=\"M17.41 7.96l-1.37-1.37c-.4-.4-.92-.59-1.43-.59-.52 0-1.04.2-1.43.59L10.3 9.45l-7.72 7.72c-.78.78-.78 2.05 0 2.83L4 21.41c.39.39.9.59 1.41.59.51 0 1.02-.2 1.41-.59l7.78-7.78 2.81-2.81c.8-.78.8-2.07 0-2.86zM5.41 20L4 18.59l7.72-7.72 1.47 1.35L5.41 20z\"/>\n",
              "  </svg>\n",
              "      </button>\n",
              "      \n",
              "  <style>\n",
              "    .colab-df-container {\n",
              "      display:flex;\n",
              "      flex-wrap:wrap;\n",
              "      gap: 12px;\n",
              "    }\n",
              "\n",
              "    .colab-df-convert {\n",
              "      background-color: #E8F0FE;\n",
              "      border: none;\n",
              "      border-radius: 50%;\n",
              "      cursor: pointer;\n",
              "      display: none;\n",
              "      fill: #1967D2;\n",
              "      height: 32px;\n",
              "      padding: 0 0 0 0;\n",
              "      width: 32px;\n",
              "    }\n",
              "\n",
              "    .colab-df-convert:hover {\n",
              "      background-color: #E2EBFA;\n",
              "      box-shadow: 0px 1px 2px rgba(60, 64, 67, 0.3), 0px 1px 3px 1px rgba(60, 64, 67, 0.15);\n",
              "      fill: #174EA6;\n",
              "    }\n",
              "\n",
              "    [theme=dark] .colab-df-convert {\n",
              "      background-color: #3B4455;\n",
              "      fill: #D2E3FC;\n",
              "    }\n",
              "\n",
              "    [theme=dark] .colab-df-convert:hover {\n",
              "      background-color: #434B5C;\n",
              "      box-shadow: 0px 1px 3px 1px rgba(0, 0, 0, 0.15);\n",
              "      filter: drop-shadow(0px 1px 2px rgba(0, 0, 0, 0.3));\n",
              "      fill: #FFFFFF;\n",
              "    }\n",
              "  </style>\n",
              "\n",
              "      <script>\n",
              "        const buttonEl =\n",
              "          document.querySelector('#df-de2d9384-a262-4369-978d-6eeb86131e8f button.colab-df-convert');\n",
              "        buttonEl.style.display =\n",
              "          google.colab.kernel.accessAllowed ? 'block' : 'none';\n",
              "\n",
              "        async function convertToInteractive(key) {\n",
              "          const element = document.querySelector('#df-de2d9384-a262-4369-978d-6eeb86131e8f');\n",
              "          const dataTable =\n",
              "            await google.colab.kernel.invokeFunction('convertToInteractive',\n",
              "                                                     [key], {});\n",
              "          if (!dataTable) return;\n",
              "\n",
              "          const docLinkHtml = 'Like what you see? Visit the ' +\n",
              "            '<a target=\"_blank\" href=https://colab.research.google.com/notebooks/data_table.ipynb>data table notebook</a>'\n",
              "            + ' to learn more about interactive tables.';\n",
              "          element.innerHTML = '';\n",
              "          dataTable['output_type'] = 'display_data';\n",
              "          await google.colab.output.renderOutput(dataTable, element);\n",
              "          const docLink = document.createElement('div');\n",
              "          docLink.innerHTML = docLinkHtml;\n",
              "          element.appendChild(docLink);\n",
              "        }\n",
              "      </script>\n",
              "    </div>\n",
              "  </div>\n",
              "  "
            ]
          },
          "metadata": {},
          "execution_count": 22
        }
      ]
    },
    {
      "cell_type": "markdown",
      "source": [
        ">- I'll assume that these are not recipes."
      ],
      "metadata": {
        "id": "6oufZGtUtGMn"
      }
    },
    {
      "cell_type": "markdown",
      "source": [
        "## we show anouther side of outliers"
      ],
      "metadata": {
        "id": "35sD7b_VtQOx"
      }
    },
    {
      "cell_type": "code",
      "source": [
        "fig, ax = plt.subplots(figsize=(10,8))\n",
        "train_data[train_data[\"ingredients_num\"]>=30].groupby(['cuisine']).size().sort_values().plot(kind='barh', ax=ax)\n",
        "plt.title('Distribution of Recipes with Ingredients >30 over Cuisines')\n",
        "plt.ylabel('Cusine')\n",
        "plt.xlabel('Number of Recipes')\n",
        "plt.grid()\n",
        "plt.show()"
      ],
      "metadata": {
        "colab": {
          "base_uri": "https://localhost:8080/",
          "height": 513
        },
        "id": "8ozNpuQTs__B",
        "outputId": "3485f8ed-abfb-4b88-c97b-d1e50a602a00"
      },
      "execution_count": 23,
      "outputs": [
        {
          "output_type": "display_data",
          "data": {
            "text/plain": [
              "<Figure size 720x576 with 1 Axes>"
            ],
            "image/png": "[encoded data removed]"
          },
          "metadata": {
            "needs_background": "light"
          }
        }
      ]
    },
    {
      "cell_type": "markdown",
      "source": [
        ">- So almost half of the reciepies with large number of ingreadients are mexican.\n"
      ],
      "metadata": {
        "id": "FKujUoectzoS"
      }
    },
    {
      "cell_type": "markdown",
      "source": [
        "## 2.5 What is the frequancy of the ingredients?"
      ],
      "metadata": {
        "id": "LUJH-CQvuYBi"
      }
    },
    {
      "cell_type": "code",
      "source": [
        "# now let's split all recipes ti have list of ingredients\n",
        "ingredients = pd.Series((','.join([','.join(row[\"ingredients\"]) for ind,row in train_data.iterrows()])).split(','))\n",
        "from collections import Counter\n",
        "\n",
        "fig, ax = plt.subplots(figsize=(10,8))\n",
        "lst = Counter(ingredients).most_common(15)\n",
        "df = pd.DataFrame(lst, columns = ['Ingredient', 'Count'])\n",
        "df.plot.bar(x='Ingredient',y='Count', ax=ax)\n",
        "plt.title('15 Most Frequent Ingredient')\n",
        "plt.ylabel('Frequency')\n",
        "plt.xlabel('Ingredient')\n",
        "plt.show()"
      ],
      "metadata": {
        "colab": {
          "base_uri": "https://localhost:8080/",
          "height": 606
        },
        "id": "muvrsM-0tYGw",
        "outputId": "56afe38c-9692-4fc0-e0b1-b05da8596e65"
      },
      "execution_count": 25,
      "outputs": [
        {
          "output_type": "display_data",
          "data": {
            "text/plain": [
              "<Figure size 720x576 with 1 Axes>"
            ],
            "image/png": "[encoded data removed]"
          },
          "metadata": {
            "needs_background": "light"
          }
        }
      ]
    },
    {
      "cell_type": "markdown",
      "source": [
        ">- the ingredient that have most frequences is salt"
      ],
      "metadata": {
        "id": "OU-CT454u_2x"
      }
    }
  ]
}